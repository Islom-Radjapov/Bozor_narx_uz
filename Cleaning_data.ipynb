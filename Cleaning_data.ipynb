{
 "cells": [
  {
   "cell_type": "code",
   "execution_count": 46,
   "metadata": {
    "collapsed": true
   },
   "outputs": [],
   "source": [
    "import pandas as pd"
   ]
  },
  {
   "cell_type": "code",
   "execution_count": 57,
   "outputs": [
    {
     "data": {
      "text/plain": "     code_tovar                   tovar    saoto           saoto_name  \\\n0           101                   Гуруч     1726  Шаҳар бўйича ўртача   \n1           102           Манний ёрмаси     1726  Шаҳар бўйича ўртача   \n2           103                    Арпа     1726  Шаҳар бўйича ўртача   \n3           104                  Буғдой     1726  Шаҳар бўйича ўртача   \n4           105                  Жўхори     1726  Шаҳар бўйича ўртача   \n..          ...                     ...      ...                  ...   \n429         193                   Нўхат  1726280    Қорақамиш  бозори   \n430         194                     Мош  1726280    Қорақамиш  бозори   \n431         195                   Шакар  1726280    Қорақамиш  бозори   \n432         196  Болалар маҳсус озуқаси  1726280    Қорақамиш  бозори   \n433         197                     Туз  1726280    Қорақамиш  бозори   \n\n     date_inter       price  \n0      20220921  13746.9907  \n1      20220921  12007.8505  \n2      20220921      4562.5  \n3      20220921   5534.6667  \n4      20220921        5550  \n..          ...         ...  \n429    20220921  20416.6667  \n430    20220921       15500  \n431    20220921       12500  \n432    20220921        NULL  \n433    20220921   2742.8571  \n\n[434 rows x 6 columns]",
      "text/html": "<div>\n<style scoped>\n    .dataframe tbody tr th:only-of-type {\n        vertical-align: middle;\n    }\n\n    .dataframe tbody tr th {\n        vertical-align: top;\n    }\n\n    .dataframe thead th {\n        text-align: right;\n    }\n</style>\n<table border=\"1\" class=\"dataframe\">\n  <thead>\n    <tr style=\"text-align: right;\">\n      <th></th>\n      <th>code_tovar</th>\n      <th>tovar</th>\n      <th>saoto</th>\n      <th>saoto_name</th>\n      <th>date_inter</th>\n      <th>price</th>\n    </tr>\n  </thead>\n  <tbody>\n    <tr>\n      <th>0</th>\n      <td>101</td>\n      <td>Гуруч</td>\n      <td>1726</td>\n      <td>Шаҳар бўйича ўртача</td>\n      <td>20220921</td>\n      <td>13746.9907</td>\n    </tr>\n    <tr>\n      <th>1</th>\n      <td>102</td>\n      <td>Манний ёрмаси</td>\n      <td>1726</td>\n      <td>Шаҳар бўйича ўртача</td>\n      <td>20220921</td>\n      <td>12007.8505</td>\n    </tr>\n    <tr>\n      <th>2</th>\n      <td>103</td>\n      <td>Арпа</td>\n      <td>1726</td>\n      <td>Шаҳар бўйича ўртача</td>\n      <td>20220921</td>\n      <td>4562.5</td>\n    </tr>\n    <tr>\n      <th>3</th>\n      <td>104</td>\n      <td>Буғдой</td>\n      <td>1726</td>\n      <td>Шаҳар бўйича ўртача</td>\n      <td>20220921</td>\n      <td>5534.6667</td>\n    </tr>\n    <tr>\n      <th>4</th>\n      <td>105</td>\n      <td>Жўхори</td>\n      <td>1726</td>\n      <td>Шаҳар бўйича ўртача</td>\n      <td>20220921</td>\n      <td>5550</td>\n    </tr>\n    <tr>\n      <th>...</th>\n      <td>...</td>\n      <td>...</td>\n      <td>...</td>\n      <td>...</td>\n      <td>...</td>\n      <td>...</td>\n    </tr>\n    <tr>\n      <th>429</th>\n      <td>193</td>\n      <td>Нўхат</td>\n      <td>1726280</td>\n      <td>Қорақамиш  бозори</td>\n      <td>20220921</td>\n      <td>20416.6667</td>\n    </tr>\n    <tr>\n      <th>430</th>\n      <td>194</td>\n      <td>Мош</td>\n      <td>1726280</td>\n      <td>Қорақамиш  бозори</td>\n      <td>20220921</td>\n      <td>15500</td>\n    </tr>\n    <tr>\n      <th>431</th>\n      <td>195</td>\n      <td>Шакар</td>\n      <td>1726280</td>\n      <td>Қорақамиш  бозори</td>\n      <td>20220921</td>\n      <td>12500</td>\n    </tr>\n    <tr>\n      <th>432</th>\n      <td>196</td>\n      <td>Болалар маҳсус озуқаси</td>\n      <td>1726280</td>\n      <td>Қорақамиш  бозори</td>\n      <td>20220921</td>\n      <td>NULL</td>\n    </tr>\n    <tr>\n      <th>433</th>\n      <td>197</td>\n      <td>Туз</td>\n      <td>1726280</td>\n      <td>Қорақамиш  бозори</td>\n      <td>20220921</td>\n      <td>2742.8571</td>\n    </tr>\n  </tbody>\n</table>\n<p>434 rows × 6 columns</p>\n</div>"
     },
     "execution_count": 57,
     "metadata": {},
     "output_type": "execute_result"
    }
   ],
   "source": [
    "df = pd.read_json('bozor.json')\n",
    "df"
   ],
   "metadata": {
    "collapsed": false
   }
  },
  {
   "cell_type": "code",
   "execution_count": 58,
   "outputs": [],
   "source": [
    "def split_date(x):\n",
    "    x = str(x)\n",
    "    return f\"{x[:4]}-{x[4:6]}-{x[6:]}\""
   ],
   "metadata": {
    "collapsed": false
   }
  },
  {
   "cell_type": "code",
   "execution_count": 59,
   "outputs": [],
   "source": [
    "df['date'] = df.date_inter.apply(split_date)"
   ],
   "metadata": {
    "collapsed": false
   }
  },
  {
   "cell_type": "code",
   "execution_count": 60,
   "outputs": [],
   "source": [
    "df.drop(['code_tovar', 'saoto', 'date_inter'], axis=1, inplace=True)"
   ],
   "metadata": {
    "collapsed": false
   }
  },
  {
   "cell_type": "code",
   "execution_count": 61,
   "outputs": [],
   "source": [
    "df.rename(columns={'tovar': 'Maxsulot', 'price':'Narx', 'saoto_name': 'Bozor nomlari', 'date': 'Sana'}, inplace=True)"
   ],
   "metadata": {
    "collapsed": false
   }
  },
  {
   "cell_type": "code",
   "execution_count": 63,
   "outputs": [
    {
     "data": {
      "text/plain": "                   Maxsulot        Narx        Bozor nomlari        Sana\n0                     Гуруч  13746.9907  Шаҳар бўйича ўртача  2022-09-21\n1             Манний ёрмаси  12007.8505  Шаҳар бўйича ўртача  2022-09-21\n2                      Арпа      4562.5  Шаҳар бўйича ўртача  2022-09-21\n3                    Буғдой   5534.6667  Шаҳар бўйича ўртача  2022-09-21\n4                    Жўхори        5550  Шаҳар бўйича ўртача  2022-09-21\n..                      ...         ...                  ...         ...\n429                   Нўхат  20416.6667    Қорақамиш  бозори  2022-09-21\n430                     Мош       15500    Қорақамиш  бозори  2022-09-21\n431                   Шакар       12500    Қорақамиш  бозори  2022-09-21\n432  Болалар маҳсус озуқаси        NULL    Қорақамиш  бозори  2022-09-21\n433                     Туз   2742.8571    Қорақамиш  бозори  2022-09-21\n\n[434 rows x 4 columns]",
      "text/html": "<div>\n<style scoped>\n    .dataframe tbody tr th:only-of-type {\n        vertical-align: middle;\n    }\n\n    .dataframe tbody tr th {\n        vertical-align: top;\n    }\n\n    .dataframe thead th {\n        text-align: right;\n    }\n</style>\n<table border=\"1\" class=\"dataframe\">\n  <thead>\n    <tr style=\"text-align: right;\">\n      <th></th>\n      <th>Maxsulot</th>\n      <th>Narx</th>\n      <th>Bozor nomlari</th>\n      <th>Sana</th>\n    </tr>\n  </thead>\n  <tbody>\n    <tr>\n      <th>0</th>\n      <td>Гуруч</td>\n      <td>13746.9907</td>\n      <td>Шаҳар бўйича ўртача</td>\n      <td>2022-09-21</td>\n    </tr>\n    <tr>\n      <th>1</th>\n      <td>Манний ёрмаси</td>\n      <td>12007.8505</td>\n      <td>Шаҳар бўйича ўртача</td>\n      <td>2022-09-21</td>\n    </tr>\n    <tr>\n      <th>2</th>\n      <td>Арпа</td>\n      <td>4562.5</td>\n      <td>Шаҳар бўйича ўртача</td>\n      <td>2022-09-21</td>\n    </tr>\n    <tr>\n      <th>3</th>\n      <td>Буғдой</td>\n      <td>5534.6667</td>\n      <td>Шаҳар бўйича ўртача</td>\n      <td>2022-09-21</td>\n    </tr>\n    <tr>\n      <th>4</th>\n      <td>Жўхори</td>\n      <td>5550</td>\n      <td>Шаҳар бўйича ўртача</td>\n      <td>2022-09-21</td>\n    </tr>\n    <tr>\n      <th>...</th>\n      <td>...</td>\n      <td>...</td>\n      <td>...</td>\n      <td>...</td>\n    </tr>\n    <tr>\n      <th>429</th>\n      <td>Нўхат</td>\n      <td>20416.6667</td>\n      <td>Қорақамиш  бозори</td>\n      <td>2022-09-21</td>\n    </tr>\n    <tr>\n      <th>430</th>\n      <td>Мош</td>\n      <td>15500</td>\n      <td>Қорақамиш  бозори</td>\n      <td>2022-09-21</td>\n    </tr>\n    <tr>\n      <th>431</th>\n      <td>Шакар</td>\n      <td>12500</td>\n      <td>Қорақамиш  бозори</td>\n      <td>2022-09-21</td>\n    </tr>\n    <tr>\n      <th>432</th>\n      <td>Болалар маҳсус озуқаси</td>\n      <td>NULL</td>\n      <td>Қорақамиш  бозори</td>\n      <td>2022-09-21</td>\n    </tr>\n    <tr>\n      <th>433</th>\n      <td>Туз</td>\n      <td>2742.8571</td>\n      <td>Қорақамиш  бозори</td>\n      <td>2022-09-21</td>\n    </tr>\n  </tbody>\n</table>\n<p>434 rows × 4 columns</p>\n</div>"
     },
     "execution_count": 63,
     "metadata": {},
     "output_type": "execute_result"
    }
   ],
   "source": [
    "df = df[['Maxsulot', 'Narx', 'Bozor nomlari', 'Sana']]\n",
    "df"
   ],
   "metadata": {
    "collapsed": false
   }
  },
  {
   "cell_type": "code",
   "execution_count": 64,
   "outputs": [],
   "source": [
    "df.to_csv(\"Maxsulotlar.csv\")"
   ],
   "metadata": {
    "collapsed": false
   }
  },
  {
   "cell_type": "code",
   "execution_count": 24,
   "outputs": [],
   "source": [
    "praducts = df.tovar.unique()\n",
    "shops = df.saoto_name.unique()\n",
    "data_dict = {}"
   ],
   "metadata": {
    "collapsed": false
   }
  },
  {
   "cell_type": "code",
   "execution_count": 8,
   "outputs": [],
   "source": [
    "for x in praducts:\n",
    "    data_dict[x] = df[df['tovar'] == x]"
   ],
   "metadata": {
    "collapsed": false
   }
  },
  {
   "cell_type": "code",
   "execution_count": 19,
   "outputs": [
    {
     "data": {
      "text/plain": "     tovar           saoto_name       price        date\n0    Гуруч  Шаҳар бўйича ўртача  13746.9907  2022-09-21\n62   Гуруч       Фарҳод  бозори  13555.5556  2022-09-21\n124  Гуруч        Қўйлиқ бозори       11700  2022-09-21\n186  Гуруч  Наврўз бозори (ТТЗ)       14600  2022-09-21\n248  Гуруч      Миробод  бозори       14300  2022-09-21\n310  Гуруч     Эски-Жўва бозори       13900  2022-09-21\n372  Гуруч    Қорақамиш  бозори       14000  2022-09-21",
      "text/html": "<div>\n<style scoped>\n    .dataframe tbody tr th:only-of-type {\n        vertical-align: middle;\n    }\n\n    .dataframe tbody tr th {\n        vertical-align: top;\n    }\n\n    .dataframe thead th {\n        text-align: right;\n    }\n</style>\n<table border=\"1\" class=\"dataframe\">\n  <thead>\n    <tr style=\"text-align: right;\">\n      <th></th>\n      <th>tovar</th>\n      <th>saoto_name</th>\n      <th>price</th>\n      <th>date</th>\n    </tr>\n  </thead>\n  <tbody>\n    <tr>\n      <th>0</th>\n      <td>Гуруч</td>\n      <td>Шаҳар бўйича ўртача</td>\n      <td>13746.9907</td>\n      <td>2022-09-21</td>\n    </tr>\n    <tr>\n      <th>62</th>\n      <td>Гуруч</td>\n      <td>Фарҳод  бозори</td>\n      <td>13555.5556</td>\n      <td>2022-09-21</td>\n    </tr>\n    <tr>\n      <th>124</th>\n      <td>Гуруч</td>\n      <td>Қўйлиқ бозори</td>\n      <td>11700</td>\n      <td>2022-09-21</td>\n    </tr>\n    <tr>\n      <th>186</th>\n      <td>Гуруч</td>\n      <td>Наврўз бозори (ТТЗ)</td>\n      <td>14600</td>\n      <td>2022-09-21</td>\n    </tr>\n    <tr>\n      <th>248</th>\n      <td>Гуруч</td>\n      <td>Миробод  бозори</td>\n      <td>14300</td>\n      <td>2022-09-21</td>\n    </tr>\n    <tr>\n      <th>310</th>\n      <td>Гуруч</td>\n      <td>Эски-Жўва бозори</td>\n      <td>13900</td>\n      <td>2022-09-21</td>\n    </tr>\n    <tr>\n      <th>372</th>\n      <td>Гуруч</td>\n      <td>Қорақамиш  бозори</td>\n      <td>14000</td>\n      <td>2022-09-21</td>\n    </tr>\n  </tbody>\n</table>\n</div>"
     },
     "execution_count": 19,
     "metadata": {},
     "output_type": "execute_result"
    }
   ],
   "source": [
    "data_dict[praducts[0]]"
   ],
   "metadata": {
    "collapsed": false
   }
  },
  {
   "cell_type": "code",
   "execution_count": 26,
   "outputs": [
    {
     "data": {
      "text/plain": "array(['Гуруч', 'Манний ёрмаси', 'Арпа', 'Буғдой', 'Жўхори', 'Кепак',\n       'Шрот', 'Шулха', 'Комбикорм', 'Олий навли буғдой уни',\n       'Олий навли буғдой уни (маҳаллий)',\n       'Олий навли буғдой уни (импорт)', 'Биринчи навли буғдой уни',\n       'Биринчи навли буғдой уни (маҳаллий)',\n       'Биринчи навли буғдой  уни (импорт)',\n       'Биринчи навли ундан қолипли нон (1 дона)', 'Жавдар нони',\n       'Макарон', 'Мол гўшти', 'Қўй гўшти', 'Парранда гўшти',\n       'Қуён гўшти', 'Балиқ', 'Сут, 1 литр', 'Сут ва қатиқ махсулотлари',\n       'Ўсимлик ёғи', 'Пахта ёғи, 1 литр', 'Кунгабоқар ёғи, 1 литр',\n       'Қаймок', 'Пишлоқ', 'Бринза', 'Творог', 'Сметана',\n       'Тухум, 10 донаси', 'Сариёғ', 'Лимон', 'Олма', 'Нок', 'Узум',\n       'Тарвуз', 'Қовун', 'Кишмиш', 'Туршак (баргак)', 'Карам',\n       'Кўкатлар (кўк пиёз, укроп, петрушка ва бошқалар, тури кўрсатилсин)',\n       'Бодринг', 'Помидор', 'Бақлажон', 'Булғор қалампири', 'Қовоқ',\n       'Хўраки лавлаги', 'Сабзи', 'Шолғом', 'Пиёз', 'Турп', 'Картошка',\n       'Ловия', 'Нўхат', 'Мош', 'Шакар', 'Болалар маҳсус озуқаси', 'Туз'],\n      dtype=object)"
     },
     "execution_count": 26,
     "metadata": {},
     "output_type": "execute_result"
    }
   ],
   "source": [
    "praducts"
   ],
   "metadata": {
    "collapsed": false
   }
  },
  {
   "cell_type": "code",
   "execution_count": 27,
   "outputs": [],
   "source": [
    "praduct = {\n",
    "           'Mevalar': [\"Лимон\", \"Олма\", \"Нок\", \"Узум\", \"Тарвуз\", \"Қовун\", \"Кишмиш\"],\n",
    "           'Un maxsulotlari': [\"Олий навли буғдой уни\", \"Олий навли буғдой уни (маҳаллий)\", \"Олий навли буғдой уни (импорт)\", \"Биринчи навли буғдой уни\", \"Биринчи навли буғдой уни (маҳаллий)\", \"Биринчи навли буғдой  уни (импорт)\", \"Биринчи навли ундан қолипли нон (1 дона)\"],\n",
    "           \"Go'sht maxsulotlari\": [\"Мол гўшти\", \"Қўй гўшти\", \"Парранда гўшти\", \"Қуён гўшти\", \"Балиқ\"],\n",
    "           'Sut maxsulotlari': [\"Сут, 1 литр\", \"Сут ва қатиқ махсулотлари\", \"Қаймок\", \"Пишлоқ\", \"Бринза\", \"Творог\", \"Сметана\"],\n",
    "           'Tuxum maxsulotlari': [\"Тухум, 10 донаси\"],\n",
    "           'Dukkakli maxsulotlari': [\"Манний ёрмаси\", \"Арпа\", \"Буғдой\", \"Жўхори\", \"Нўхат\", \"Мош\"],\n",
    "           \"Yog' maxsulotlari\": [\"Ўсимлик ёғи\", \"Пахта ёғи, 1 литр\", \"Кунгабоқар ёғи, 1 литр\", \"Сариёғ\"],\n",
    "           'Guruch va makaron maxsulotlari': [\"Гуруч\", \"Макарон\"],\n",
    "           'Yem maxsulotlar': [\"Кепак\", \"Шрот\", \"Шулха\", \"Комбикорм\"],\n",
    "           'NoN maxsulotlari': [\"Жавдар нони\"],\n",
    "            \"Quruq mevalar\": [\"Туршак (баргак)\"],\n",
    "           \"Sabzavotlar\": [\"Карам\", \"Кўкатлар (кўк пиёз, укроп, петрушка ва бошқалар, тури кўрсатилсин)\", \"Бодринг\", \"Помидор\", \"Бақлажон\", \"Булғор қалампири\", \"Қовоқ\", \"Хўраки\" \"лавлаги\", \"Сабзи\", \"Шолғом\", \"Пиёз\", \"Турп\", \"Картошка\", \"Ловия\"],\n",
    "           # \"Shakar va tuz\": [\"Шакар\", \"Туз\"],\n",
    "           # \"Болалар маҳсус озуқаси\": [\"Болалар маҳсус озуқаси\"]\n",
    "}"
   ],
   "metadata": {
    "collapsed": false
   }
  },
  {
   "cell_type": "code",
   "execution_count": null,
   "outputs": [],
   "source": [
    "maxsulotlari_turi = {}\n",
    "for x in praduct:\n",
    "    maxsulotlari_turi[x] = [\"Лимон\", \"Олма\", \"Нок\", \"Узум\", \"Тарвуз\", \"Қовун\", \"Кишмиш\"]"
   ],
   "metadata": {
    "collapsed": false
   }
  },
  {
   "cell_type": "code",
   "execution_count": null,
   "outputs": [],
   "source": [],
   "metadata": {
    "collapsed": false
   }
  }
 ],
 "metadata": {
  "kernelspec": {
   "display_name": "Python 3",
   "language": "python",
   "name": "python3"
  },
  "language_info": {
   "codemirror_mode": {
    "name": "ipython",
    "version": 2
   },
   "file_extension": ".py",
   "mimetype": "text/x-python",
   "name": "python",
   "nbconvert_exporter": "python",
   "pygments_lexer": "ipython2",
   "version": "2.7.6"
  }
 },
 "nbformat": 4,
 "nbformat_minor": 0
}
