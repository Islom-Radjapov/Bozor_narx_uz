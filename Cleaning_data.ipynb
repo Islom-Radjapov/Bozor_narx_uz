{
 "cells": [
  {
   "cell_type": "code",
   "execution_count": 46,
   "metadata": {
    "collapsed": true
   },
   "outputs": [],
   "source": [
    "import pandas as pd"
   ]
  },
  {
   "cell_type": "code",
   "execution_count": 57,
   "outputs": [
    {
     "data": {
      "text/plain": "     code_tovar                   tovar    saoto           saoto_name  \\\n0           101                   Гуруч     1726  Шаҳар бўйича ўртача   \n1           102           Манний ёрмаси     1726  Шаҳар бўйича ўртача   \n2           103                    Арпа     1726  Шаҳар бўйича ўртача   \n3           104                  Буғдой     1726  Шаҳар бўйича ўртача   \n4           105                  Жўхори     1726  Шаҳар бўйича ўртача   \n..          ...                     ...      ...                  ...   \n429         193                   Нўхат  1726280    Қорақамиш  бозори   \n430         194                     Мош  1726280    Қорақамиш  бозори   \n431         195                   Шакар  1726280    Қорақамиш  бозори   \n432         196  Болалар маҳсус озуқаси  1726280    Қорақамиш  бозори   \n433         197                     Туз  1726280    Қорақамиш  бозори   \n\n     date_inter       price  \n0      20220921  13746.9907  \n1      20220921  12007.8505  \n2      20220921      4562.5  \n3      20220921   5534.6667  \n4      20220921        5550  \n..          ...         ...  \n429    20220921  20416.6667  \n430    20220921       15500  \n431    20220921       12500  \n432    20220921        NULL  \n433    20220921   2742.8571  \n\n[434 rows x 6 columns]",
      "text/html": "<div>\n<style scoped>\n    .dataframe tbody tr th:only-of-type {\n        vertical-align: middle;\n    }\n\n    .dataframe tbody tr th {\n        vertical-align: top;\n    }\n\n    .dataframe thead th {\n        text-align: right;\n    }\n</style>\n<table border=\"1\" class=\"dataframe\">\n  <thead>\n    <tr style=\"text-align: right;\">\n      <th></th>\n      <th>code_tovar</th>\n      <th>tovar</th>\n      <th>saoto</th>\n      <th>saoto_name</th>\n      <th>date_inter</th>\n      <th>price</th>\n    </tr>\n  </thead>\n  <tbody>\n    <tr>\n      <th>0</th>\n      <td>101</td>\n      <td>Гуруч</td>\n      <td>1726</td>\n      <td>Шаҳар бўйича ўртача</td>\n      <td>20220921</td>\n      <td>13746.9907</td>\n    </tr>\n    <tr>\n      <th>1</th>\n      <td>102</td>\n      <td>Манний ёрмаси</td>\n      <td>1726</td>\n      <td>Шаҳар бўйича ўртача</td>\n      <td>20220921</td>\n      <td>12007.8505</td>\n    </tr>\n    <tr>\n      <th>2</th>\n      <td>103</td>\n      <td>Арпа</td>\n      <td>1726</td>\n      <td>Шаҳар бўйича ўртача</td>\n      <td>20220921</td>\n      <td>4562.5</td>\n    </tr>\n    <tr>\n      <th>3</th>\n      <td>104</td>\n      <td>Буғдой</td>\n      <td>1726</td>\n      <td>Шаҳар бўйича ўртача</td>\n      <td>20220921</td>\n      <td>5534.6667</td>\n    </tr>\n    <tr>\n      <th>4</th>\n      <td>105</td>\n      <td>Жўхори</td>\n      <td>1726</td>\n      <td>Шаҳар бўйича ўртача</td>\n      <td>20220921</td>\n      <td>5550</td>\n    </tr>\n    <tr>\n      <th>...</th>\n      <td>...</td>\n      <td>...</td>\n      <td>...</td>\n      <td>...</td>\n      <td>...</td>\n      <td>...</td>\n    </tr>\n    <tr>\n      <th>429</th>\n      <td>193</td>\n      <td>Нўхат</td>\n      <td>1726280</td>\n      <td>Қорақамиш  бозори</td>\n      <td>20220921</td>\n      <td>20416.6667</td>\n    </tr>\n    <tr>\n      <th>430</th>\n      <td>194</td>\n      <td>Мош</td>\n      <td>1726280</td>\n      <td>Қорақамиш  бозори</td>\n      <td>20220921</td>\n      <td>15500</td>\n    </tr>\n    <tr>\n      <th>431</th>\n      <td>195</td>\n      <td>Шакар</td>\n      <td>1726280</td>\n      <td>Қорақамиш  бозори</td>\n      <td>20220921</td>\n      <td>12500</td>\n    </tr>\n    <tr>\n      <th>432</th>\n      <td>196</td>\n      <td>Болалар маҳсус озуқаси</td>\n      <td>1726280</td>\n      <td>Қорақамиш  бозори</td>\n      <td>20220921</td>\n      <td>NULL</td>\n    </tr>\n    <tr>\n      <th>433</th>\n      <td>197</td>\n      <td>Туз</td>\n      <td>1726280</td>\n      <td>Қорақамиш  бозори</td>\n      <td>20220921</td>\n      <td>2742.8571</td>\n    </tr>\n  </tbody>\n</table>\n<p>434 rows × 6 columns</p>\n</div>"
     },
     "execution_count": 57,
     "metadata": {},
     "output_type": "execute_result"
    }
   ],
   "source": [
    "df = pd.read_json('bozor.json')\n",
    "df"
   ],
   "metadata": {
    "collapsed": false
   }
  },
  {
   "cell_type": "code",
   "execution_count": 58,
   "outputs": [],
   "source": [
    "def split_date(x):\n",
    "    x = str(x)\n",
    "    return f\"{x[:4]}-{x[4:6]}-{x[6:]}\""
   ],
   "metadata": {
    "collapsed": false
   }
  },
  {
   "cell_type": "code",
   "execution_count": 59,
   "outputs": [],
   "source": [
    "df['date'] = df.date_inter.apply(split_date)"
   ],
   "metadata": {
    "collapsed": false
   }
  },
  {
   "cell_type": "code",
   "execution_count": 60,
   "outputs": [],
   "source": [
    "df.drop(['code_tovar', 'saoto', 'date_inter'], axis=1, inplace=True)"
   ],
   "metadata": {
    "collapsed": false
   }
  },
  {
   "cell_type": "code",
   "execution_count": 61,
   "outputs": [],
   "source": [
    "df.rename(columns={'tovar': 'Maxsulot', 'price':'Narx', 'saoto_name': 'Bozor nomlari', 'date': 'Sana'}, inplace=True)"
   ],
   "metadata": {
    "collapsed": false
   }
  },
  {
   "cell_type": "code",
   "execution_count": 63,
   "outputs": [
    {
     "data": {
      "text/plain": "                   Maxsulot        Narx        Bozor nomlari        Sana\n0                     Гуруч  13746.9907  Шаҳар бўйича ўртача  2022-09-21\n1             Манний ёрмаси  12007.8505  Шаҳар бўйича ўртача  2022-09-21\n2                      Арпа      4562.5  Шаҳар бўйича ўртача  2022-09-21\n3                    Буғдой   5534.6667  Шаҳар бўйича ўртача  2022-09-21\n4                    Жўхори        5550  Шаҳар бўйича ўртача  2022-09-21\n..                      ...         ...                  ...         ...\n429                   Нўхат  20416.6667    Қорақамиш  бозори  2022-09-21\n430                     Мош       15500    Қорақамиш  бозори  2022-09-21\n431                   Шакар       12500    Қорақамиш  бозори  2022-09-21\n432  Болалар маҳсус озуқаси        NULL    Қорақамиш  бозори  2022-09-21\n433                     Туз   2742.8571    Қорақамиш  бозори  2022-09-21\n\n[434 rows x 4 columns]",
      "text/html": "<div>\n<style scoped>\n    .dataframe tbody tr th:only-of-type {\n        vertical-align: middle;\n    }\n\n    .dataframe tbody tr th {\n        vertical-align: top;\n    }\n\n    .dataframe thead th {\n        text-align: right;\n    }\n</style>\n<table border=\"1\" class=\"dataframe\">\n  <thead>\n    <tr style=\"text-align: right;\">\n      <th></th>\n      <th>Maxsulot</th>\n      <th>Narx</th>\n      <th>Bozor nomlari</th>\n      <th>Sana</th>\n    </tr>\n  </thead>\n  <tbody>\n    <tr>\n      <th>0</th>\n      <td>Гуруч</td>\n      <td>13746.9907</td>\n      <td>Шаҳар бўйича ўртача</td>\n      <td>2022-09-21</td>\n    </tr>\n    <tr>\n      <th>1</th>\n      <td>Манний ёрмаси</td>\n      <td>12007.8505</td>\n      <td>Шаҳар бўйича ўртача</td>\n      <td>2022-09-21</td>\n    </tr>\n    <tr>\n      <th>2</th>\n      <td>Арпа</td>\n      <td>4562.5</td>\n      <td>Шаҳар бўйича ўртача</td>\n      <td>2022-09-21</td>\n    </tr>\n    <tr>\n      <th>3</th>\n      <td>Буғдой</td>\n      <td>5534.6667</td>\n      <td>Шаҳар бўйича ўртача</td>\n      <td>2022-09-21</td>\n    </tr>\n    <tr>\n      <th>4</th>\n      <td>Жўхори</td>\n      <td>5550</td>\n      <td>Шаҳар бўйича ўртача</td>\n      <td>2022-09-21</td>\n    </tr>\n    <tr>\n      <th>...</th>\n      <td>...</td>\n      <td>...</td>\n      <td>...</td>\n      <td>...</td>\n    </tr>\n    <tr>\n      <th>429</th>\n      <td>Нўхат</td>\n      <td>20416.6667</td>\n      <td>Қорақамиш  бозори</td>\n      <td>2022-09-21</td>\n    </tr>\n    <tr>\n      <th>430</th>\n      <td>Мош</td>\n      <td>15500</td>\n      <td>Қорақамиш  бозори</td>\n      <td>2022-09-21</td>\n    </tr>\n    <tr>\n      <th>431</th>\n      <td>Шакар</td>\n      <td>12500</td>\n      <td>Қорақамиш  бозори</td>\n      <td>2022-09-21</td>\n    </tr>\n    <tr>\n      <th>432</th>\n      <td>Болалар маҳсус озуқаси</td>\n      <td>NULL</td>\n      <td>Қорақамиш  бозори</td>\n      <td>2022-09-21</td>\n    </tr>\n    <tr>\n      <th>433</th>\n      <td>Туз</td>\n      <td>2742.8571</td>\n      <td>Қорақамиш  бозори</td>\n      <td>2022-09-21</td>\n    </tr>\n  </tbody>\n</table>\n<p>434 rows × 4 columns</p>\n</div>"
     },
     "execution_count": 63,
     "metadata": {},
     "output_type": "execute_result"
    }
   ],
   "source": [
    "df = df[['Maxsulot', 'Narx', 'Bozor nomlari', 'Sana']]\n",
    "df"
   ],
   "metadata": {
    "collapsed": false
   }
  },
  {
   "cell_type": "code",
   "execution_count": 64,
   "outputs": [],
   "source": [
    "# df.to_csv(\"Maxsulotlar.csv\")"
   ],
   "metadata": {
    "collapsed": false
   }
  },
  {
   "cell_type": "code",
   "execution_count": 95,
   "outputs": [],
   "source": [
    "bozorlar = df[\"Bozor nomlari\"].unique()\n",
    "bozor_dict = {}"
   ],
   "metadata": {
    "collapsed": false
   }
  },
  {
   "cell_type": "code",
   "execution_count": 96,
   "outputs": [],
   "source": [
    "for x in bozorlar:\n",
    "    bozor_dict[x] = df[df['Bozor nomlari'] == x]\n",
    "    bozor_dict[x].to_csv(f'{x}.csv', index=False)"
   ],
   "metadata": {
    "collapsed": false
   }
  },
  {
   "cell_type": "code",
   "execution_count": 93,
   "outputs": [
    {
     "data": {
      "text/plain": "{'Шаҳар бўйича ўртача':                   Maxsulot        Narx        Bozor nomlari        Sana\n 0                    Гуруч  13746.9907  Шаҳар бўйича ўртача  2022-09-21\n 1            Манний ёрмаси  12007.8505  Шаҳар бўйича ўртача  2022-09-21\n 2                     Арпа      4562.5  Шаҳар бўйича ўртача  2022-09-21\n 3                   Буғдой   5534.6667  Шаҳар бўйича ўртача  2022-09-21\n 4                   Жўхори        5550  Шаҳар бўйича ўртача  2022-09-21\n ..                     ...         ...                  ...         ...\n 57                   Нўхат  21223.4127  Шаҳар бўйича ўртача  2022-09-21\n 58                     Мош  15707.9365  Шаҳар бўйича ўртача  2022-09-21\n 59                   Шакар  13571.3294  Шаҳар бўйича ўртача  2022-09-21\n 60  Болалар маҳсус озуқаси  157758.667  Шаҳар бўйича ўртача  2022-09-21\n 61                     Туз   2897.5496  Шаҳар бўйича ўртача  2022-09-21\n \n [62 rows x 4 columns],\n 'Фарҳод  бозори':                    Maxsulot         Narx   Bozor nomlari        Sana\n 62                    Гуруч   13555.5556  Фарҳод  бозори  2022-09-21\n 63            Манний ёрмаси        10720  Фарҳод  бозори  2022-09-21\n 64                     Арпа         NULL  Фарҳод  бозори  2022-09-21\n 65                   Буғдой         5830  Фарҳод  бозори  2022-09-21\n 66                   Жўхори         6000  Фарҳод  бозори  2022-09-21\n ..                      ...          ...             ...         ...\n 119                   Нўхат        20500  Фарҳод  бозори  2022-09-21\n 120                     Мош   15857.1429  Фарҳод  бозори  2022-09-21\n 121                   Шакар   13714.2857  Фарҳод  бозори  2022-09-21\n 122  Болалар маҳсус озуқаси  170385.7143  Фарҳод  бозори  2022-09-21\n 123                     Туз       3112.5  Фарҳод  бозори  2022-09-21\n \n [62 rows x 4 columns],\n 'Қўйлиқ бозори':                    Maxsulot    Narx  Bozor nomlari        Sana\n 124                   Гуруч   11700  Қўйлиқ бозори  2022-09-21\n 125           Манний ёрмаси   12000  Қўйлиқ бозори  2022-09-21\n 126                    Арпа    4125  Қўйлиқ бозори  2022-09-21\n 127                  Буғдой    5360  Қўйлиқ бозори  2022-09-21\n 128                  Жўхори    4700  Қўйлиқ бозори  2022-09-21\n ..                      ...     ...            ...         ...\n 181                   Нўхат   17500  Қўйлиқ бозори  2022-09-21\n 182                     Мош   15100  Қўйлиқ бозори  2022-09-21\n 183                   Шакар   13875  Қўйлиқ бозори  2022-09-21\n 184  Болалар маҳсус озуқаси  181000  Қўйлиқ бозори  2022-09-21\n 185                     Туз    2650  Қўйлиқ бозори  2022-09-21\n \n [62 rows x 4 columns],\n 'Наврўз бозори (ТТЗ)':                    Maxsulot        Narx        Bozor nomlari        Sana\n 186                   Гуруч       14600  Наврўз бозори (ТТЗ)  2022-09-21\n 187           Манний ёрмаси  11166.6667  Наврўз бозори (ТТЗ)  2022-09-21\n 188                    Арпа        NULL  Наврўз бозори (ТТЗ)  2022-09-21\n 189                  Буғдой        5500  Наврўз бозори (ТТЗ)  2022-09-21\n 190                  Жўхори        NULL  Наврўз бозори (ТТЗ)  2022-09-21\n ..                      ...         ...                  ...         ...\n 243                   Нўхат  25333.3333  Наврўз бозори (ТТЗ)  2022-09-21\n 244                     Мош  16071.4286  Наврўз бозори (ТТЗ)  2022-09-21\n 245                   Шакар       13200  Наврўз бозори (ТТЗ)  2022-09-21\n 246  Болалар маҳсус озуқаси      132500  Наврўз бозори (ТТЗ)  2022-09-21\n 247                     Туз   2785.7143  Наврўз бозори (ТТЗ)  2022-09-21\n \n [62 rows x 4 columns],\n 'Миробод  бозори':                    Maxsulot        Narx    Bozor nomlari        Sana\n 248                   Гуруч       14300  Миробод  бозори  2022-09-21\n 249           Манний ёрмаси  13208.3333  Миробод  бозори  2022-09-21\n 250                    Арпа        NULL  Миробод  бозори  2022-09-21\n 251                  Буғдой   5916.6667  Миробод  бозори  2022-09-21\n 252                  Жўхори        5800  Миробод  бозори  2022-09-21\n ..                      ...         ...              ...         ...\n 305                   Нўхат       22000  Миробод  бозори  2022-09-21\n 306                     Мош  15666.6667  Миробод  бозори  2022-09-21\n 307                   Шакар       12000  Миробод  бозори  2022-09-21\n 308  Болалар маҳсус озуқаси    114009.5  Миробод  бозори  2022-09-21\n 309                     Туз        2750  Миробод  бозори  2022-09-21\n \n [62 rows x 4 columns],\n 'Эски-Жўва бозори':                    Maxsulot      Narx     Bozor nomlari        Sana\n 310                   Гуруч     13900  Эски-Жўва бозори  2022-09-21\n 311           Манний ёрмаси      9700  Эски-Жўва бозори  2022-09-21\n 312                    Арпа      NULL  Эски-Жўва бозори  2022-09-21\n 313                  Буғдой      5490  Эски-Жўва бозори  2022-09-21\n 314                  Жўхори      5400  Эски-Жўва бозори  2022-09-21\n ..                      ...       ...               ...         ...\n 367                   Нўхат     21200  Эски-Жўва бозори  2022-09-21\n 368                     Мош     15500  Эски-Жўва бозори  2022-09-21\n 369                   Шакар     13700  Эски-Жўва бозори  2022-09-21\n 370  Болалар маҳсус озуқаси  160993.4  Эски-Жўва бозори  2022-09-21\n 371                     Туз      2790  Эски-Жўва бозори  2022-09-21\n \n [62 rows x 4 columns],\n 'Қорақамиш  бозори':                    Maxsulot        Narx      Bozor nomlari        Sana\n 372                   Гуруч       14000  Қорақамиш  бозори  2022-09-21\n 373           Манний ёрмаси       13500  Қорақамиш  бозори  2022-09-21\n 374                    Арпа        NULL  Қорақамиш  бозори  2022-09-21\n 375                  Буғдой        5500  Қорақамиш  бозори  2022-09-21\n 376                  Жўхори        NULL  Қорақамиш  бозори  2022-09-21\n ..                      ...         ...                ...         ...\n 429                   Нўхат  20416.6667  Қорақамиш  бозори  2022-09-21\n 430                     Мош       15500  Қорақамиш  бозори  2022-09-21\n 431                   Шакар       12500  Қорақамиш  бозори  2022-09-21\n 432  Болалар маҳсус озуқаси        NULL  Қорақамиш  бозори  2022-09-21\n 433                     Туз   2742.8571  Қорақамиш  бозори  2022-09-21\n \n [62 rows x 4 columns]}"
     },
     "execution_count": 93,
     "metadata": {},
     "output_type": "execute_result"
    }
   ],
   "source": [
    "bozor_dict"
   ],
   "metadata": {
    "collapsed": false
   }
  },
  {
   "cell_type": "code",
   "execution_count": 82,
   "outputs": [
    {
     "data": {
      "text/plain": "                  Maxsulot        Narx        Bozor nomlari        Sana\n0                    Гуруч  13746.9907  Шаҳар бўйича ўртача  2022-09-21\n1            Манний ёрмаси  12007.8505  Шаҳар бўйича ўртача  2022-09-21\n2                     Арпа      4562.5  Шаҳар бўйича ўртача  2022-09-21\n3                   Буғдой   5534.6667  Шаҳар бўйича ўртача  2022-09-21\n4                   Жўхори        5550  Шаҳар бўйича ўртача  2022-09-21\n..                     ...         ...                  ...         ...\n57                   Нўхат  21223.4127  Шаҳар бўйича ўртача  2022-09-21\n58                     Мош  15707.9365  Шаҳар бўйича ўртача  2022-09-21\n59                   Шакар  13571.3294  Шаҳар бўйича ўртача  2022-09-21\n60  Болалар маҳсус озуқаси  157758.667  Шаҳар бўйича ўртача  2022-09-21\n61                     Туз   2897.5496  Шаҳар бўйича ўртача  2022-09-21\n\n[62 rows x 4 columns]",
      "text/html": "<div>\n<style scoped>\n    .dataframe tbody tr th:only-of-type {\n        vertical-align: middle;\n    }\n\n    .dataframe tbody tr th {\n        vertical-align: top;\n    }\n\n    .dataframe thead th {\n        text-align: right;\n    }\n</style>\n<table border=\"1\" class=\"dataframe\">\n  <thead>\n    <tr style=\"text-align: right;\">\n      <th></th>\n      <th>Maxsulot</th>\n      <th>Narx</th>\n      <th>Bozor nomlari</th>\n      <th>Sana</th>\n    </tr>\n  </thead>\n  <tbody>\n    <tr>\n      <th>0</th>\n      <td>Гуруч</td>\n      <td>13746.9907</td>\n      <td>Шаҳар бўйича ўртача</td>\n      <td>2022-09-21</td>\n    </tr>\n    <tr>\n      <th>1</th>\n      <td>Манний ёрмаси</td>\n      <td>12007.8505</td>\n      <td>Шаҳар бўйича ўртача</td>\n      <td>2022-09-21</td>\n    </tr>\n    <tr>\n      <th>2</th>\n      <td>Арпа</td>\n      <td>4562.5</td>\n      <td>Шаҳар бўйича ўртача</td>\n      <td>2022-09-21</td>\n    </tr>\n    <tr>\n      <th>3</th>\n      <td>Буғдой</td>\n      <td>5534.6667</td>\n      <td>Шаҳар бўйича ўртача</td>\n      <td>2022-09-21</td>\n    </tr>\n    <tr>\n      <th>4</th>\n      <td>Жўхори</td>\n      <td>5550</td>\n      <td>Шаҳар бўйича ўртача</td>\n      <td>2022-09-21</td>\n    </tr>\n    <tr>\n      <th>...</th>\n      <td>...</td>\n      <td>...</td>\n      <td>...</td>\n      <td>...</td>\n    </tr>\n    <tr>\n      <th>57</th>\n      <td>Нўхат</td>\n      <td>21223.4127</td>\n      <td>Шаҳар бўйича ўртача</td>\n      <td>2022-09-21</td>\n    </tr>\n    <tr>\n      <th>58</th>\n      <td>Мош</td>\n      <td>15707.9365</td>\n      <td>Шаҳар бўйича ўртача</td>\n      <td>2022-09-21</td>\n    </tr>\n    <tr>\n      <th>59</th>\n      <td>Шакар</td>\n      <td>13571.3294</td>\n      <td>Шаҳар бўйича ўртача</td>\n      <td>2022-09-21</td>\n    </tr>\n    <tr>\n      <th>60</th>\n      <td>Болалар маҳсус озуқаси</td>\n      <td>157758.667</td>\n      <td>Шаҳар бўйича ўртача</td>\n      <td>2022-09-21</td>\n    </tr>\n    <tr>\n      <th>61</th>\n      <td>Туз</td>\n      <td>2897.5496</td>\n      <td>Шаҳар бўйича ўртача</td>\n      <td>2022-09-21</td>\n    </tr>\n  </tbody>\n</table>\n<p>62 rows × 4 columns</p>\n</div>"
     },
     "execution_count": 82,
     "metadata": {},
     "output_type": "execute_result"
    }
   ],
   "source": [
    "df[df['Bozor nomlari'] == x]"
   ],
   "metadata": {
    "collapsed": false
   }
  },
  {
   "cell_type": "code",
   "execution_count": 75,
   "outputs": [
    {
     "data": {
      "text/plain": "                  Maxsulot        Narx        Bozor nomlari        Sana\n0                    Гуруч  13746.9907  Шаҳар бўйича ўртача  2022-09-21\n1            Манний ёрмаси  12007.8505  Шаҳар бўйича ўртача  2022-09-21\n2                     Арпа      4562.5  Шаҳар бўйича ўртача  2022-09-21\n3                   Буғдой   5534.6667  Шаҳар бўйича ўртача  2022-09-21\n4                   Жўхори        5550  Шаҳар бўйича ўртача  2022-09-21\n..                     ...         ...                  ...         ...\n57                   Нўхат  21223.4127  Шаҳар бўйича ўртача  2022-09-21\n58                     Мош  15707.9365  Шаҳар бўйича ўртача  2022-09-21\n59                   Шакар  13571.3294  Шаҳар бўйича ўртача  2022-09-21\n60  Болалар маҳсус озуқаси  157758.667  Шаҳар бўйича ўртача  2022-09-21\n61                     Туз   2897.5496  Шаҳар бўйича ўртача  2022-09-21\n\n[62 rows x 4 columns]",
      "text/html": "<div>\n<style scoped>\n    .dataframe tbody tr th:only-of-type {\n        vertical-align: middle;\n    }\n\n    .dataframe tbody tr th {\n        vertical-align: top;\n    }\n\n    .dataframe thead th {\n        text-align: right;\n    }\n</style>\n<table border=\"1\" class=\"dataframe\">\n  <thead>\n    <tr style=\"text-align: right;\">\n      <th></th>\n      <th>Maxsulot</th>\n      <th>Narx</th>\n      <th>Bozor nomlari</th>\n      <th>Sana</th>\n    </tr>\n  </thead>\n  <tbody>\n    <tr>\n      <th>0</th>\n      <td>Гуруч</td>\n      <td>13746.9907</td>\n      <td>Шаҳар бўйича ўртача</td>\n      <td>2022-09-21</td>\n    </tr>\n    <tr>\n      <th>1</th>\n      <td>Манний ёрмаси</td>\n      <td>12007.8505</td>\n      <td>Шаҳар бўйича ўртача</td>\n      <td>2022-09-21</td>\n    </tr>\n    <tr>\n      <th>2</th>\n      <td>Арпа</td>\n      <td>4562.5</td>\n      <td>Шаҳар бўйича ўртача</td>\n      <td>2022-09-21</td>\n    </tr>\n    <tr>\n      <th>3</th>\n      <td>Буғдой</td>\n      <td>5534.6667</td>\n      <td>Шаҳар бўйича ўртача</td>\n      <td>2022-09-21</td>\n    </tr>\n    <tr>\n      <th>4</th>\n      <td>Жўхори</td>\n      <td>5550</td>\n      <td>Шаҳар бўйича ўртача</td>\n      <td>2022-09-21</td>\n    </tr>\n    <tr>\n      <th>...</th>\n      <td>...</td>\n      <td>...</td>\n      <td>...</td>\n      <td>...</td>\n    </tr>\n    <tr>\n      <th>57</th>\n      <td>Нўхат</td>\n      <td>21223.4127</td>\n      <td>Шаҳар бўйича ўртача</td>\n      <td>2022-09-21</td>\n    </tr>\n    <tr>\n      <th>58</th>\n      <td>Мош</td>\n      <td>15707.9365</td>\n      <td>Шаҳар бўйича ўртача</td>\n      <td>2022-09-21</td>\n    </tr>\n    <tr>\n      <th>59</th>\n      <td>Шакар</td>\n      <td>13571.3294</td>\n      <td>Шаҳар бўйича ўртача</td>\n      <td>2022-09-21</td>\n    </tr>\n    <tr>\n      <th>60</th>\n      <td>Болалар маҳсус озуқаси</td>\n      <td>157758.667</td>\n      <td>Шаҳар бўйича ўртача</td>\n      <td>2022-09-21</td>\n    </tr>\n    <tr>\n      <th>61</th>\n      <td>Туз</td>\n      <td>2897.5496</td>\n      <td>Шаҳар бўйича ўртача</td>\n      <td>2022-09-21</td>\n    </tr>\n  </tbody>\n</table>\n<p>62 rows × 4 columns</p>\n</div>"
     },
     "execution_count": 75,
     "metadata": {},
     "output_type": "execute_result"
    }
   ],
   "source": [
    "bozor_dict[bozorlar[0]]"
   ],
   "metadata": {
    "collapsed": false
   }
  },
  {
   "cell_type": "code",
   "execution_count": 24,
   "outputs": [],
   "source": [
    "praducts = df.tovar.unique()\n",
    "shops = df.saoto_name.unique()\n",
    "data_dict = {}"
   ],
   "metadata": {
    "collapsed": false
   }
  },
  {
   "cell_type": "code",
   "execution_count": 8,
   "outputs": [],
   "source": [
    "for x in praducts:\n",
    "    data_dict[x] = df[df['tovar'] == x]"
   ],
   "metadata": {
    "collapsed": false
   }
  },
  {
   "cell_type": "code",
   "execution_count": 19,
   "outputs": [
    {
     "data": {
      "text/plain": "     tovar           saoto_name       price        date\n0    Гуруч  Шаҳар бўйича ўртача  13746.9907  2022-09-21\n62   Гуруч       Фарҳод  бозори  13555.5556  2022-09-21\n124  Гуруч        Қўйлиқ бозори       11700  2022-09-21\n186  Гуруч  Наврўз бозори (ТТЗ)       14600  2022-09-21\n248  Гуруч      Миробод  бозори       14300  2022-09-21\n310  Гуруч     Эски-Жўва бозори       13900  2022-09-21\n372  Гуруч    Қорақамиш  бозори       14000  2022-09-21",
      "text/html": "<div>\n<style scoped>\n    .dataframe tbody tr th:only-of-type {\n        vertical-align: middle;\n    }\n\n    .dataframe tbody tr th {\n        vertical-align: top;\n    }\n\n    .dataframe thead th {\n        text-align: right;\n    }\n</style>\n<table border=\"1\" class=\"dataframe\">\n  <thead>\n    <tr style=\"text-align: right;\">\n      <th></th>\n      <th>tovar</th>\n      <th>saoto_name</th>\n      <th>price</th>\n      <th>date</th>\n    </tr>\n  </thead>\n  <tbody>\n    <tr>\n      <th>0</th>\n      <td>Гуруч</td>\n      <td>Шаҳар бўйича ўртача</td>\n      <td>13746.9907</td>\n      <td>2022-09-21</td>\n    </tr>\n    <tr>\n      <th>62</th>\n      <td>Гуруч</td>\n      <td>Фарҳод  бозори</td>\n      <td>13555.5556</td>\n      <td>2022-09-21</td>\n    </tr>\n    <tr>\n      <th>124</th>\n      <td>Гуруч</td>\n      <td>Қўйлиқ бозори</td>\n      <td>11700</td>\n      <td>2022-09-21</td>\n    </tr>\n    <tr>\n      <th>186</th>\n      <td>Гуруч</td>\n      <td>Наврўз бозори (ТТЗ)</td>\n      <td>14600</td>\n      <td>2022-09-21</td>\n    </tr>\n    <tr>\n      <th>248</th>\n      <td>Гуруч</td>\n      <td>Миробод  бозори</td>\n      <td>14300</td>\n      <td>2022-09-21</td>\n    </tr>\n    <tr>\n      <th>310</th>\n      <td>Гуруч</td>\n      <td>Эски-Жўва бозори</td>\n      <td>13900</td>\n      <td>2022-09-21</td>\n    </tr>\n    <tr>\n      <th>372</th>\n      <td>Гуруч</td>\n      <td>Қорақамиш  бозори</td>\n      <td>14000</td>\n      <td>2022-09-21</td>\n    </tr>\n  </tbody>\n</table>\n</div>"
     },
     "execution_count": 19,
     "metadata": {},
     "output_type": "execute_result"
    }
   ],
   "source": [
    "data_dict[praducts[0]]"
   ],
   "metadata": {
    "collapsed": false
   }
  },
  {
   "cell_type": "code",
   "execution_count": 26,
   "outputs": [
    {
     "data": {
      "text/plain": "array(['Гуруч', 'Манний ёрмаси', 'Арпа', 'Буғдой', 'Жўхори', 'Кепак',\n       'Шрот', 'Шулха', 'Комбикорм', 'Олий навли буғдой уни',\n       'Олий навли буғдой уни (маҳаллий)',\n       'Олий навли буғдой уни (импорт)', 'Биринчи навли буғдой уни',\n       'Биринчи навли буғдой уни (маҳаллий)',\n       'Биринчи навли буғдой  уни (импорт)',\n       'Биринчи навли ундан қолипли нон (1 дона)', 'Жавдар нони',\n       'Макарон', 'Мол гўшти', 'Қўй гўшти', 'Парранда гўшти',\n       'Қуён гўшти', 'Балиқ', 'Сут, 1 литр', 'Сут ва қатиқ махсулотлари',\n       'Ўсимлик ёғи', 'Пахта ёғи, 1 литр', 'Кунгабоқар ёғи, 1 литр',\n       'Қаймок', 'Пишлоқ', 'Бринза', 'Творог', 'Сметана',\n       'Тухум, 10 донаси', 'Сариёғ', 'Лимон', 'Олма', 'Нок', 'Узум',\n       'Тарвуз', 'Қовун', 'Кишмиш', 'Туршак (баргак)', 'Карам',\n       'Кўкатлар (кўк пиёз, укроп, петрушка ва бошқалар, тури кўрсатилсин)',\n       'Бодринг', 'Помидор', 'Бақлажон', 'Булғор қалампири', 'Қовоқ',\n       'Хўраки лавлаги', 'Сабзи', 'Шолғом', 'Пиёз', 'Турп', 'Картошка',\n       'Ловия', 'Нўхат', 'Мош', 'Шакар', 'Болалар маҳсус озуқаси', 'Туз'],\n      dtype=object)"
     },
     "execution_count": 26,
     "metadata": {},
     "output_type": "execute_result"
    }
   ],
   "source": [
    "praducts"
   ],
   "metadata": {
    "collapsed": false
   }
  },
  {
   "cell_type": "code",
   "execution_count": 27,
   "outputs": [],
   "source": [
    "praduct = {\n",
    "           'Mevalar': [\"Лимон\", \"Олма\", \"Нок\", \"Узум\", \"Тарвуз\", \"Қовун\", \"Кишмиш\"],\n",
    "           'Un maxsulotlari': [\"Олий навли буғдой уни\", \"Олий навли буғдой уни (маҳаллий)\", \"Олий навли буғдой уни (импорт)\", \"Биринчи навли буғдой уни\", \"Биринчи навли буғдой уни (маҳаллий)\", \"Биринчи навли буғдой  уни (импорт)\", \"Биринчи навли ундан қолипли нон (1 дона)\"],\n",
    "           \"Go'sht maxsulotlari\": [\"Мол гўшти\", \"Қўй гўшти\", \"Парранда гўшти\", \"Қуён гўшти\", \"Балиқ\"],\n",
    "           'Sut maxsulotlari': [\"Сут, 1 литр\", \"Сут ва қатиқ махсулотлари\", \"Қаймок\", \"Пишлоқ\", \"Бринза\", \"Творог\", \"Сметана\"],\n",
    "           'Tuxum maxsulotlari': [\"Тухум, 10 донаси\"],\n",
    "           'Dukkakli maxsulotlari': [\"Манний ёрмаси\", \"Арпа\", \"Буғдой\", \"Жўхори\", \"Нўхат\", \"Мош\"],\n",
    "           \"Yog' maxsulotlari\": [\"Ўсимлик ёғи\", \"Пахта ёғи, 1 литр\", \"Кунгабоқар ёғи, 1 литр\", \"Сариёғ\"],\n",
    "           'Guruch va makaron maxsulotlari': [\"Гуруч\", \"Макарон\"],\n",
    "           'Yem maxsulotlar': [\"Кепак\", \"Шрот\", \"Шулха\", \"Комбикорм\"],\n",
    "           'NoN maxsulotlari': [\"Жавдар нони\"],\n",
    "            \"Quruq mevalar\": [\"Туршак (баргак)\"],\n",
    "           \"Sabzavotlar\": [\"Карам\", \"Кўкатлар (кўк пиёз, укроп, петрушка ва бошқалар, тури кўрсатилсин)\", \"Бодринг\", \"Помидор\", \"Бақлажон\", \"Булғор қалампири\", \"Қовоқ\", \"Хўраки\" \"лавлаги\", \"Сабзи\", \"Шолғом\", \"Пиёз\", \"Турп\", \"Картошка\", \"Ловия\"],\n",
    "           # \"Shakar va tuz\": [\"Шакар\", \"Туз\"],\n",
    "           # \"Болалар маҳсус озуқаси\": [\"Болалар маҳсус озуқаси\"]\n",
    "}"
   ],
   "metadata": {
    "collapsed": false
   }
  },
  {
   "cell_type": "code",
   "execution_count": null,
   "outputs": [],
   "source": [
    "maxsulotlari_turi = {}\n",
    "for x in praduct:\n",
    "    maxsulotlari_turi[x] = [\"Лимон\", \"Олма\", \"Нок\", \"Узум\", \"Тарвуз\", \"Қовун\", \"Кишмиш\"]"
   ],
   "metadata": {
    "collapsed": false
   }
  },
  {
   "cell_type": "code",
   "execution_count": null,
   "outputs": [],
   "source": [],
   "metadata": {
    "collapsed": false
   }
  }
 ],
 "metadata": {
  "kernelspec": {
   "display_name": "Python 3",
   "language": "python",
   "name": "python3"
  },
  "language_info": {
   "codemirror_mode": {
    "name": "ipython",
    "version": 2
   },
   "file_extension": ".py",
   "mimetype": "text/x-python",
   "name": "python",
   "nbconvert_exporter": "python",
   "pygments_lexer": "ipython2",
   "version": "2.7.6"
  }
 },
 "nbformat": 4,
 "nbformat_minor": 0
}
